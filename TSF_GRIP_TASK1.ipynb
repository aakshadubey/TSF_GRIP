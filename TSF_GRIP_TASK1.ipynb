{
 "cells": [
  {
   "cell_type": "markdown",
   "metadata": {},
   "source": [
    "# TSF GRIP\n",
    "TASK 1- Prediction using Supervised ML\n",
    "\n",
    "\n",
    "\n",
    "Aaksha Dubey\n"
   ]
  },
  {
   "cell_type": "markdown",
   "metadata": {},
   "source": [
    "Linear regression\n"
   ]
  },
  {
   "cell_type": "code",
   "execution_count": 2,
   "metadata": {},
   "outputs": [
    {
     "name": "stdout",
     "output_type": "stream",
     "text": [
      "Data import successful\n"
     ]
    }
   ],
   "source": [
    "import pandas as pd\n",
    "import numpy as np\n",
    "import matplotlib.pyplot as plt\n",
    "import matplotlib as cm\n",
    "import seaborn as sns\n",
    "sns.set()\n",
    "\n",
    "data_url = \"http://bit.ly/w-data\"\n",
    "li=pd.read_csv(data_url)\n",
    "print(\"Data import successful\")"
   ]
  },
  {
   "cell_type": "code",
   "execution_count": 3,
   "metadata": {},
   "outputs": [
    {
     "data": {
      "text/plain": [
       "(25, 2)"
      ]
     },
     "execution_count": 3,
     "metadata": {},
     "output_type": "execute_result"
    }
   ],
   "source": [
    "li.shape"
   ]
  },
  {
   "cell_type": "markdown",
   "metadata": {},
   "source": [
    "# The data has 25 rows and 2 columns\n",
    "a) Hours of study\n",
    "\n",
    "\n",
    "b) Scores"
   ]
  },
  {
   "cell_type": "code",
   "execution_count": 4,
   "metadata": {},
   "outputs": [
    {
     "data": {
      "text/html": [
       "<div>\n",
       "<style scoped>\n",
       "    .dataframe tbody tr th:only-of-type {\n",
       "        vertical-align: middle;\n",
       "    }\n",
       "\n",
       "    .dataframe tbody tr th {\n",
       "        vertical-align: top;\n",
       "    }\n",
       "\n",
       "    .dataframe thead th {\n",
       "        text-align: right;\n",
       "    }\n",
       "</style>\n",
       "<table border=\"1\" class=\"dataframe\">\n",
       "  <thead>\n",
       "    <tr style=\"text-align: right;\">\n",
       "      <th></th>\n",
       "      <th>Hours</th>\n",
       "      <th>Scores</th>\n",
       "    </tr>\n",
       "  </thead>\n",
       "  <tbody>\n",
       "    <tr>\n",
       "      <th>0</th>\n",
       "      <td>2.5</td>\n",
       "      <td>21</td>\n",
       "    </tr>\n",
       "    <tr>\n",
       "      <th>1</th>\n",
       "      <td>5.1</td>\n",
       "      <td>47</td>\n",
       "    </tr>\n",
       "    <tr>\n",
       "      <th>2</th>\n",
       "      <td>3.2</td>\n",
       "      <td>27</td>\n",
       "    </tr>\n",
       "    <tr>\n",
       "      <th>3</th>\n",
       "      <td>8.5</td>\n",
       "      <td>75</td>\n",
       "    </tr>\n",
       "    <tr>\n",
       "      <th>4</th>\n",
       "      <td>3.5</td>\n",
       "      <td>30</td>\n",
       "    </tr>\n",
       "  </tbody>\n",
       "</table>\n",
       "</div>"
      ],
      "text/plain": [
       "   Hours  Scores\n",
       "0    2.5      21\n",
       "1    5.1      47\n",
       "2    3.2      27\n",
       "3    8.5      75\n",
       "4    3.5      30"
      ]
     },
     "execution_count": 4,
     "metadata": {},
     "output_type": "execute_result"
    }
   ],
   "source": [
    "li.head()"
   ]
  },
  {
   "cell_type": "code",
   "execution_count": 5,
   "metadata": {},
   "outputs": [
    {
     "data": {
      "text/plain": [
       "5.012"
      ]
     },
     "execution_count": 5,
     "metadata": {},
     "output_type": "execute_result"
    }
   ],
   "source": [
    "li['Hours'].mean() #Average hours of study"
   ]
  },
  {
   "cell_type": "code",
   "execution_count": 7,
   "metadata": {},
   "outputs": [
    {
     "data": {
      "text/plain": [
       "51.48"
      ]
     },
     "execution_count": 7,
     "metadata": {},
     "output_type": "execute_result"
    }
   ],
   "source": [
    "li['Scores'].mean() #Average scores"
   ]
  },
  {
   "cell_type": "code",
   "execution_count": 8,
   "metadata": {},
   "outputs": [
    {
     "data": {
      "text/plain": [
       "Hours      9.2\n",
       "Scores    88.0\n",
       "Name: 6, dtype: float64"
      ]
     },
     "execution_count": 8,
     "metadata": {},
     "output_type": "execute_result"
    }
   ],
   "source": [
    "li.iloc[li['Hours'].idxmax()] #maximum hours of study"
   ]
  },
  {
   "cell_type": "code",
   "execution_count": 9,
   "metadata": {},
   "outputs": [
    {
     "data": {
      "text/plain": [
       "Hours      1.1\n",
       "Scores    17.0\n",
       "Name: 14, dtype: float64"
      ]
     },
     "execution_count": 9,
     "metadata": {},
     "output_type": "execute_result"
    }
   ],
   "source": [
    "li.iloc[li['Hours'].idxmin()] #minimum hours of study"
   ]
  },
  {
   "cell_type": "markdown",
   "metadata": {},
   "source": [
    "Taking 33 out of 100 as general passing marks as scores are ranging from 17 to 95\n",
    "\n",
    "Number of students passed"
   ]
  },
  {
   "cell_type": "code",
   "execution_count": 10,
   "metadata": {},
   "outputs": [
    {
     "data": {
      "text/html": [
       "<style  type=\"text/css\" >\n",
       "    #T_df861b48_0a0a_11eb_b1b3_185680361f63row0_col1 {\n",
       "            background-color:  #00441b;\n",
       "            color:  #f1f1f1;\n",
       "        }    #T_df861b48_0a0a_11eb_b1b3_185680361f63row1_col1 {\n",
       "            background-color:  #00692a;\n",
       "            color:  #f1f1f1;\n",
       "        }    #T_df861b48_0a0a_11eb_b1b3_185680361f63row2_col1 {\n",
       "            background-color:  #077331;\n",
       "            color:  #f1f1f1;\n",
       "        }    #T_df861b48_0a0a_11eb_b1b3_185680361f63row3_col1 {\n",
       "            background-color:  #0b7734;\n",
       "            color:  #f1f1f1;\n",
       "        }    #T_df861b48_0a0a_11eb_b1b3_185680361f63row4_col1 {\n",
       "            background-color:  #1e8741;\n",
       "            color:  #000000;\n",
       "        }    #T_df861b48_0a0a_11eb_b1b3_185680361f63row5_col1 {\n",
       "            background-color:  #339c52;\n",
       "            color:  #000000;\n",
       "        }    #T_df861b48_0a0a_11eb_b1b3_185680361f63row6_col1 {\n",
       "            background-color:  #37a055;\n",
       "            color:  #000000;\n",
       "        }    #T_df861b48_0a0a_11eb_b1b3_185680361f63row7_col1 {\n",
       "            background-color:  #58b668;\n",
       "            color:  #000000;\n",
       "        }    #T_df861b48_0a0a_11eb_b1b3_185680361f63row8_col1 {\n",
       "            background-color:  #66bd6f;\n",
       "            color:  #000000;\n",
       "        }    #T_df861b48_0a0a_11eb_b1b3_185680361f63row9_col1 {\n",
       "            background-color:  #86cc85;\n",
       "            color:  #000000;\n",
       "        }    #T_df861b48_0a0a_11eb_b1b3_185680361f63row10_col1 {\n",
       "            background-color:  #92d28f;\n",
       "            color:  #000000;\n",
       "        }    #T_df861b48_0a0a_11eb_b1b3_185680361f63row11_col1 {\n",
       "            background-color:  #b2e0ac;\n",
       "            color:  #000000;\n",
       "        }    #T_df861b48_0a0a_11eb_b1b3_185680361f63row12_col1 {\n",
       "            background-color:  #d3eecd;\n",
       "            color:  #000000;\n",
       "        }    #T_df861b48_0a0a_11eb_b1b3_185680361f63row13_col1 {\n",
       "            background-color:  #e7f6e2;\n",
       "            color:  #000000;\n",
       "        }    #T_df861b48_0a0a_11eb_b1b3_185680361f63row14_col1 {\n",
       "            background-color:  #e9f7e5;\n",
       "            color:  #000000;\n",
       "        }    #T_df861b48_0a0a_11eb_b1b3_185680361f63row15_col1 {\n",
       "            background-color:  #f7fcf5;\n",
       "            color:  #000000;\n",
       "        }</style><table id=\"T_df861b48_0a0a_11eb_b1b3_185680361f63\" ><thead>    <tr>        <th class=\"blank level0\" ></th>        <th class=\"col_heading level0 col0\" >Hours</th>        <th class=\"col_heading level0 col1\" >Scores</th>    </tr></thead><tbody>\n",
       "                <tr>\n",
       "                        <th id=\"T_df861b48_0a0a_11eb_b1b3_185680361f63level0_row0\" class=\"row_heading level0 row0\" >15</th>\n",
       "                        <td id=\"T_df861b48_0a0a_11eb_b1b3_185680361f63row0_col0\" class=\"data row0 col0\" >8.9</td>\n",
       "                        <td id=\"T_df861b48_0a0a_11eb_b1b3_185680361f63row0_col1\" class=\"data row0 col1\" >95</td>\n",
       "            </tr>\n",
       "            <tr>\n",
       "                        <th id=\"T_df861b48_0a0a_11eb_b1b3_185680361f63level0_row1\" class=\"row_heading level0 row1\" >6</th>\n",
       "                        <td id=\"T_df861b48_0a0a_11eb_b1b3_185680361f63row1_col0\" class=\"data row1 col0\" >9.2</td>\n",
       "                        <td id=\"T_df861b48_0a0a_11eb_b1b3_185680361f63row1_col1\" class=\"data row1 col1\" >88</td>\n",
       "            </tr>\n",
       "            <tr>\n",
       "                        <th id=\"T_df861b48_0a0a_11eb_b1b3_185680361f63level0_row2\" class=\"row_heading level0 row2\" >24</th>\n",
       "                        <td id=\"T_df861b48_0a0a_11eb_b1b3_185680361f63row2_col0\" class=\"data row2 col0\" >7.8</td>\n",
       "                        <td id=\"T_df861b48_0a0a_11eb_b1b3_185680361f63row2_col1\" class=\"data row2 col1\" >86</td>\n",
       "            </tr>\n",
       "            <tr>\n",
       "                        <th id=\"T_df861b48_0a0a_11eb_b1b3_185680361f63level0_row3\" class=\"row_heading level0 row3\" >10</th>\n",
       "                        <td id=\"T_df861b48_0a0a_11eb_b1b3_185680361f63row3_col0\" class=\"data row3 col0\" >7.7</td>\n",
       "                        <td id=\"T_df861b48_0a0a_11eb_b1b3_185680361f63row3_col1\" class=\"data row3 col1\" >85</td>\n",
       "            </tr>\n",
       "            <tr>\n",
       "                        <th id=\"T_df861b48_0a0a_11eb_b1b3_185680361f63level0_row4\" class=\"row_heading level0 row4\" >8</th>\n",
       "                        <td id=\"T_df861b48_0a0a_11eb_b1b3_185680361f63row4_col0\" class=\"data row4 col0\" >8.3</td>\n",
       "                        <td id=\"T_df861b48_0a0a_11eb_b1b3_185680361f63row4_col1\" class=\"data row4 col1\" >81</td>\n",
       "            </tr>\n",
       "            <tr>\n",
       "                        <th id=\"T_df861b48_0a0a_11eb_b1b3_185680361f63level0_row5\" class=\"row_heading level0 row5\" >23</th>\n",
       "                        <td id=\"T_df861b48_0a0a_11eb_b1b3_185680361f63row5_col0\" class=\"data row5 col0\" >6.9</td>\n",
       "                        <td id=\"T_df861b48_0a0a_11eb_b1b3_185680361f63row5_col1\" class=\"data row5 col1\" >76</td>\n",
       "            </tr>\n",
       "            <tr>\n",
       "                        <th id=\"T_df861b48_0a0a_11eb_b1b3_185680361f63level0_row6\" class=\"row_heading level0 row6\" >3</th>\n",
       "                        <td id=\"T_df861b48_0a0a_11eb_b1b3_185680361f63row6_col0\" class=\"data row6 col0\" >8.5</td>\n",
       "                        <td id=\"T_df861b48_0a0a_11eb_b1b3_185680361f63row6_col1\" class=\"data row6 col1\" >75</td>\n",
       "            </tr>\n",
       "            <tr>\n",
       "                        <th id=\"T_df861b48_0a0a_11eb_b1b3_185680361f63level0_row7\" class=\"row_heading level0 row7\" >19</th>\n",
       "                        <td id=\"T_df861b48_0a0a_11eb_b1b3_185680361f63row7_col0\" class=\"data row7 col0\" >7.4</td>\n",
       "                        <td id=\"T_df861b48_0a0a_11eb_b1b3_185680361f63row7_col1\" class=\"data row7 col1\" >69</td>\n",
       "            </tr>\n",
       "            <tr>\n",
       "                        <th id=\"T_df861b48_0a0a_11eb_b1b3_185680361f63level0_row8\" class=\"row_heading level0 row8\" >18</th>\n",
       "                        <td id=\"T_df861b48_0a0a_11eb_b1b3_185680361f63row8_col0\" class=\"data row8 col0\" >6.1</td>\n",
       "                        <td id=\"T_df861b48_0a0a_11eb_b1b3_185680361f63row8_col1\" class=\"data row8 col1\" >67</td>\n",
       "            </tr>\n",
       "            <tr>\n",
       "                        <th id=\"T_df861b48_0a0a_11eb_b1b3_185680361f63level0_row9\" class=\"row_heading level0 row9\" >11</th>\n",
       "                        <td id=\"T_df861b48_0a0a_11eb_b1b3_185680361f63row9_col0\" class=\"data row9 col0\" >5.9</td>\n",
       "                        <td id=\"T_df861b48_0a0a_11eb_b1b3_185680361f63row9_col1\" class=\"data row9 col1\" >62</td>\n",
       "            </tr>\n",
       "            <tr>\n",
       "                        <th id=\"T_df861b48_0a0a_11eb_b1b3_185680361f63level0_row10\" class=\"row_heading level0 row10\" >7</th>\n",
       "                        <td id=\"T_df861b48_0a0a_11eb_b1b3_185680361f63row10_col0\" class=\"data row10 col0\" >5.5</td>\n",
       "                        <td id=\"T_df861b48_0a0a_11eb_b1b3_185680361f63row10_col1\" class=\"data row10 col1\" >60</td>\n",
       "            </tr>\n",
       "            <tr>\n",
       "                        <th id=\"T_df861b48_0a0a_11eb_b1b3_185680361f63level0_row11\" class=\"row_heading level0 row11\" >21</th>\n",
       "                        <td id=\"T_df861b48_0a0a_11eb_b1b3_185680361f63row11_col0\" class=\"data row11 col0\" >4.8</td>\n",
       "                        <td id=\"T_df861b48_0a0a_11eb_b1b3_185680361f63row11_col1\" class=\"data row11 col1\" >54</td>\n",
       "            </tr>\n",
       "            <tr>\n",
       "                        <th id=\"T_df861b48_0a0a_11eb_b1b3_185680361f63level0_row12\" class=\"row_heading level0 row12\" >1</th>\n",
       "                        <td id=\"T_df861b48_0a0a_11eb_b1b3_185680361f63row12_col0\" class=\"data row12 col0\" >5.1</td>\n",
       "                        <td id=\"T_df861b48_0a0a_11eb_b1b3_185680361f63row12_col1\" class=\"data row12 col1\" >47</td>\n",
       "            </tr>\n",
       "            <tr>\n",
       "                        <th id=\"T_df861b48_0a0a_11eb_b1b3_185680361f63level0_row13\" class=\"row_heading level0 row13\" >13</th>\n",
       "                        <td id=\"T_df861b48_0a0a_11eb_b1b3_185680361f63row13_col0\" class=\"data row13 col0\" >3.3</td>\n",
       "                        <td id=\"T_df861b48_0a0a_11eb_b1b3_185680361f63row13_col1\" class=\"data row13 col1\" >42</td>\n",
       "            </tr>\n",
       "            <tr>\n",
       "                        <th id=\"T_df861b48_0a0a_11eb_b1b3_185680361f63level0_row14\" class=\"row_heading level0 row14\" >12</th>\n",
       "                        <td id=\"T_df861b48_0a0a_11eb_b1b3_185680361f63row14_col0\" class=\"data row14 col0\" >4.5</td>\n",
       "                        <td id=\"T_df861b48_0a0a_11eb_b1b3_185680361f63row14_col1\" class=\"data row14 col1\" >41</td>\n",
       "            </tr>\n",
       "            <tr>\n",
       "                        <th id=\"T_df861b48_0a0a_11eb_b1b3_185680361f63level0_row15\" class=\"row_heading level0 row15\" >22</th>\n",
       "                        <td id=\"T_df861b48_0a0a_11eb_b1b3_185680361f63row15_col0\" class=\"data row15 col0\" >3.8</td>\n",
       "                        <td id=\"T_df861b48_0a0a_11eb_b1b3_185680361f63row15_col1\" class=\"data row15 col1\" >35</td>\n",
       "            </tr>\n",
       "    </tbody></table>"
      ],
      "text/plain": [
       "<pandas.io.formats.style.Styler at 0x1cb1504ff98>"
      ]
     },
     "execution_count": 10,
     "metadata": {},
     "output_type": "execute_result"
    }
   ],
   "source": [
    "li[li['Scores']>=33].sort_values(by='Scores',ascending=False).style.background_gradient(subset=['Scores'],cmap=\"Greens\")"
   ]
  },
  {
   "cell_type": "markdown",
   "metadata": {},
   "source": [
    "Number of Students Failed"
   ]
  },
  {
   "cell_type": "code",
   "execution_count": 11,
   "metadata": {},
   "outputs": [
    {
     "data": {
      "text/html": [
       "<style  type=\"text/css\" >\n",
       "    #T_04a70024_0a0b_11eb_886d_185680361f63row0_col1 {\n",
       "            background-color:  #7f0000;\n",
       "            color:  #f1f1f1;\n",
       "        }    #T_04a70024_0a0b_11eb_886d_185680361f63row1_col1 {\n",
       "            background-color:  #d2291a;\n",
       "            color:  #f1f1f1;\n",
       "        }    #T_04a70024_0a0b_11eb_886d_185680361f63row2_col1 {\n",
       "            background-color:  #e24831;\n",
       "            color:  #f1f1f1;\n",
       "        }    #T_04a70024_0a0b_11eb_886d_185680361f63row3_col1 {\n",
       "            background-color:  #fc9b66;\n",
       "            color:  #000000;\n",
       "        }    #T_04a70024_0a0b_11eb_886d_185680361f63row4_col1 {\n",
       "            background-color:  #fdb881;\n",
       "            color:  #000000;\n",
       "        }    #T_04a70024_0a0b_11eb_886d_185680361f63row5_col1 {\n",
       "            background-color:  #fdd7a4;\n",
       "            color:  #000000;\n",
       "        }    #T_04a70024_0a0b_11eb_886d_185680361f63row6_col1 {\n",
       "            background-color:  #fff7ec;\n",
       "            color:  #000000;\n",
       "        }    #T_04a70024_0a0b_11eb_886d_185680361f63row7_col1 {\n",
       "            background-color:  #fff7ec;\n",
       "            color:  #000000;\n",
       "        }    #T_04a70024_0a0b_11eb_886d_185680361f63row8_col1 {\n",
       "            background-color:  #fff7ec;\n",
       "            color:  #000000;\n",
       "        }</style><table id=\"T_04a70024_0a0b_11eb_886d_185680361f63\" ><thead>    <tr>        <th class=\"blank level0\" ></th>        <th class=\"col_heading level0 col0\" >Hours</th>        <th class=\"col_heading level0 col1\" >Scores</th>    </tr></thead><tbody>\n",
       "                <tr>\n",
       "                        <th id=\"T_04a70024_0a0b_11eb_886d_185680361f63level0_row0\" class=\"row_heading level0 row0\" >14</th>\n",
       "                        <td id=\"T_04a70024_0a0b_11eb_886d_185680361f63row0_col0\" class=\"data row0 col0\" >1.1</td>\n",
       "                        <td id=\"T_04a70024_0a0b_11eb_886d_185680361f63row0_col1\" class=\"data row0 col1\" >17</td>\n",
       "            </tr>\n",
       "            <tr>\n",
       "                        <th id=\"T_04a70024_0a0b_11eb_886d_185680361f63level0_row1\" class=\"row_heading level0 row1\" >5</th>\n",
       "                        <td id=\"T_04a70024_0a0b_11eb_886d_185680361f63row1_col0\" class=\"data row1 col0\" >1.5</td>\n",
       "                        <td id=\"T_04a70024_0a0b_11eb_886d_185680361f63row1_col1\" class=\"data row1 col1\" >20</td>\n",
       "            </tr>\n",
       "            <tr>\n",
       "                        <th id=\"T_04a70024_0a0b_11eb_886d_185680361f63level0_row2\" class=\"row_heading level0 row2\" >0</th>\n",
       "                        <td id=\"T_04a70024_0a0b_11eb_886d_185680361f63row2_col0\" class=\"data row2 col0\" >2.5</td>\n",
       "                        <td id=\"T_04a70024_0a0b_11eb_886d_185680361f63row2_col1\" class=\"data row2 col1\" >21</td>\n",
       "            </tr>\n",
       "            <tr>\n",
       "                        <th id=\"T_04a70024_0a0b_11eb_886d_185680361f63level0_row3\" class=\"row_heading level0 row3\" >17</th>\n",
       "                        <td id=\"T_04a70024_0a0b_11eb_886d_185680361f63row3_col0\" class=\"data row3 col0\" >1.9</td>\n",
       "                        <td id=\"T_04a70024_0a0b_11eb_886d_185680361f63row3_col1\" class=\"data row3 col1\" >24</td>\n",
       "            </tr>\n",
       "            <tr>\n",
       "                        <th id=\"T_04a70024_0a0b_11eb_886d_185680361f63level0_row4\" class=\"row_heading level0 row4\" >9</th>\n",
       "                        <td id=\"T_04a70024_0a0b_11eb_886d_185680361f63row4_col0\" class=\"data row4 col0\" >2.7</td>\n",
       "                        <td id=\"T_04a70024_0a0b_11eb_886d_185680361f63row4_col1\" class=\"data row4 col1\" >25</td>\n",
       "            </tr>\n",
       "            <tr>\n",
       "                        <th id=\"T_04a70024_0a0b_11eb_886d_185680361f63level0_row5\" class=\"row_heading level0 row5\" >2</th>\n",
       "                        <td id=\"T_04a70024_0a0b_11eb_886d_185680361f63row5_col0\" class=\"data row5 col0\" >3.2</td>\n",
       "                        <td id=\"T_04a70024_0a0b_11eb_886d_185680361f63row5_col1\" class=\"data row5 col1\" >27</td>\n",
       "            </tr>\n",
       "            <tr>\n",
       "                        <th id=\"T_04a70024_0a0b_11eb_886d_185680361f63level0_row6\" class=\"row_heading level0 row6\" >4</th>\n",
       "                        <td id=\"T_04a70024_0a0b_11eb_886d_185680361f63row6_col0\" class=\"data row6 col0\" >3.5</td>\n",
       "                        <td id=\"T_04a70024_0a0b_11eb_886d_185680361f63row6_col1\" class=\"data row6 col1\" >30</td>\n",
       "            </tr>\n",
       "            <tr>\n",
       "                        <th id=\"T_04a70024_0a0b_11eb_886d_185680361f63level0_row7\" class=\"row_heading level0 row7\" >16</th>\n",
       "                        <td id=\"T_04a70024_0a0b_11eb_886d_185680361f63row7_col0\" class=\"data row7 col0\" >2.5</td>\n",
       "                        <td id=\"T_04a70024_0a0b_11eb_886d_185680361f63row7_col1\" class=\"data row7 col1\" >30</td>\n",
       "            </tr>\n",
       "            <tr>\n",
       "                        <th id=\"T_04a70024_0a0b_11eb_886d_185680361f63level0_row8\" class=\"row_heading level0 row8\" >20</th>\n",
       "                        <td id=\"T_04a70024_0a0b_11eb_886d_185680361f63row8_col0\" class=\"data row8 col0\" >2.7</td>\n",
       "                        <td id=\"T_04a70024_0a0b_11eb_886d_185680361f63row8_col1\" class=\"data row8 col1\" >30</td>\n",
       "            </tr>\n",
       "    </tbody></table>"
      ],
      "text/plain": [
       "<pandas.io.formats.style.Styler at 0x1cb16463b70>"
      ]
     },
     "execution_count": 11,
     "metadata": {},
     "output_type": "execute_result"
    }
   ],
   "source": [
    "li[li['Scores']<33].sort_values(by='Scores').style.background_gradient(subset=['Scores'],cmap='OrRd_r')"
   ]
  },
  {
   "cell_type": "code",
   "execution_count": 12,
   "metadata": {},
   "outputs": [],
   "source": [
    "li2=li.copy()\n",
    "li2.index=li2['Hours']\n",
    "li2.drop('Hours',axis=1,inplace=True)"
   ]
  },
  {
   "cell_type": "code",
   "execution_count": 13,
   "metadata": {},
   "outputs": [],
   "source": [
    "li2.index=li2.index.astype('int')"
   ]
  },
  {
   "cell_type": "markdown",
   "metadata": {},
   "source": [
    "HOURS VS SCORES FOR BOTH THE PASSED AND FAILED STUDENTS"
   ]
  },
  {
   "cell_type": "code",
   "execution_count": 14,
   "metadata": {},
   "outputs": [
    {
     "data": {
      "text/plain": [
       "<matplotlib.legend.Legend at 0x1cb16482cf8>"
      ]
     },
     "execution_count": 14,
     "metadata": {},
     "output_type": "execute_result"
    },
    {
     "data": {
      "image/png": "[encoded data removed]",
      "text/plain": [
       "<Figure size 720x576 with 1 Axes>"
      ]
     },
     "metadata": {},
     "output_type": "display_data"
    }
   ],
   "source": [
    "failed=li2.loc[li2.Scores<33]\n",
    "passed=li2.loc[li2.Scores>=33]\n",
    "ax=passed.groupby(passed.index).aggregate('mean').plot(style=['--'],color='Green',figsize=(10,8))\n",
    "failed.groupby(failed.index).aggregate('mean').plot(ax=ax,style=['-o'],color='Red')\n",
    "plt.plot(5,51.48,'ro',color='goldenrod',label=\"Average\")\n",
    "plt.xlabel(\"Hours Studied\")\n",
    "plt.ylabel(\"Scores\")\n",
    "# plt.title(\"Distribution of Scores\")\n",
    "plt.legend()"
   ]
  },
  {
   "cell_type": "code",
   "execution_count": 15,
   "metadata": {},
   "outputs": [
    {
     "data": {
      "image/png": "[encoded data removed]",
      "text/plain": [
       "<Figure size 648x432 with 1 Axes>"
      ]
     },
     "metadata": {},
     "output_type": "display_data"
    }
   ],
   "source": [
    "li.plot(x='Hours', y='Scores', style='o',figsize=(9,6))  \n",
    "plt.title('HOURS vs SCORES')  \n",
    "plt.xlabel('Number of Hours ')  \n",
    "plt.ylabel('Percentage Score')  \n",
    "plt.show()"
   ]
  },
  {
   "cell_type": "markdown",
   "metadata": {},
   "source": [
    "# TRAINING"
   ]
  },
  {
   "cell_type": "code",
   "execution_count": 16,
   "metadata": {},
   "outputs": [],
   "source": [
    "from sklearn.model_selection import train_test_split\n",
    "from sklearn.linear_model import LinearRegression\n",
    "#Dividing the data into data and labels\n",
    "X=li['Hours'].values[:,np.newaxis]\n",
    "y=li['Scores'].values[:,np.newaxis]"
   ]
  },
  {
   "cell_type": "code",
   "execution_count": 17,
   "metadata": {},
   "outputs": [
    {
     "name": "stdout",
     "output_type": "stream",
     "text": [
      "X Train (20, 1)\n",
      "X Test (5, 1)\n",
      "Y Train (20, 1)\n",
      "Y Test (5, 1)\n"
     ]
    }
   ],
   "source": [
    "x_train,x_test,y_train,y_test=train_test_split(X,y,test_size=0.2,random_state=42)\n",
    "print(\"X Train\",x_train.shape)\n",
    "print(\"X Test\",x_test.shape)\n",
    "print(\"Y Train\",y_train.shape)\n",
    "print(\"Y Test\",y_test.shape)"
   ]
  },
  {
   "cell_type": "code",
   "execution_count": 18,
   "metadata": {},
   "outputs": [
    {
     "name": "stdout",
     "output_type": "stream",
     "text": [
      "Training Completed\n"
     ]
    }
   ],
   "source": [
    "import pickle\n",
    "l=LinearRegression()\n",
    "l.fit(x_train,y_train)\n",
    "filename = 'linear1_model.sav'\n",
    "pickle.dump(l, open(filename, 'wb'))\n",
    "print(\"Training Completed\")"
   ]
  },
  {
   "cell_type": "code",
   "execution_count": 19,
   "metadata": {},
   "outputs": [
    {
     "data": {
      "text/plain": [
       "[<matplotlib.lines.Line2D at 0x1cb16f1a7f0>]"
      ]
     },
     "execution_count": 19,
     "metadata": {},
     "output_type": "execute_result"
    },
    {
     "data": {
      "image/png": "[encoded data removed]",
      "text/plain": [
       "<Figure size 432x288 with 1 Axes>"
      ]
     },
     "metadata": {},
     "output_type": "display_data"
    }
   ],
   "source": [
    "line=l.coef_*x_train+l.intercept_\n",
    "plt.scatter(x_train,y_train)\n",
    "plt.plot(x_train,line)"
   ]
  },
  {
   "cell_type": "markdown",
   "metadata": {},
   "source": [
    "# PREDICTION"
   ]
  },
  {
   "cell_type": "code",
   "execution_count": 21,
   "metadata": {},
   "outputs": [],
   "source": [
    "y_pred=l.predict(x_test).reshape(-1)"
   ]
  },
  {
   "cell_type": "code",
   "execution_count": 22,
   "metadata": {},
   "outputs": [
    {
     "data": {
      "text/plain": [
       "array([[81],\n",
       "       [30],\n",
       "       [21],\n",
       "       [76],\n",
       "       [62]], dtype=int64)"
      ]
     },
     "execution_count": 22,
     "metadata": {},
     "output_type": "execute_result"
    }
   ],
   "source": [
    "y_test"
   ]
  },
  {
   "cell_type": "code",
   "execution_count": 23,
   "metadata": {},
   "outputs": [
    {
     "data": {
      "text/html": [
       "<div>\n",
       "<style scoped>\n",
       "    .dataframe tbody tr th:only-of-type {\n",
       "        vertical-align: middle;\n",
       "    }\n",
       "\n",
       "    .dataframe tbody tr th {\n",
       "        vertical-align: top;\n",
       "    }\n",
       "\n",
       "    .dataframe thead th {\n",
       "        text-align: right;\n",
       "    }\n",
       "</style>\n",
       "<table border=\"1\" class=\"dataframe\">\n",
       "  <thead>\n",
       "    <tr style=\"text-align: right;\">\n",
       "      <th></th>\n",
       "      <th>Predicted</th>\n",
       "      <th>Actual</th>\n",
       "    </tr>\n",
       "  </thead>\n",
       "  <tbody>\n",
       "    <tr>\n",
       "      <th>0</th>\n",
       "      <td>83.188141</td>\n",
       "      <td>81</td>\n",
       "    </tr>\n",
       "    <tr>\n",
       "      <th>1</th>\n",
       "      <td>27.032088</td>\n",
       "      <td>30</td>\n",
       "    </tr>\n",
       "    <tr>\n",
       "      <th>2</th>\n",
       "      <td>27.032088</td>\n",
       "      <td>21</td>\n",
       "    </tr>\n",
       "    <tr>\n",
       "      <th>3</th>\n",
       "      <td>69.633232</td>\n",
       "      <td>76</td>\n",
       "    </tr>\n",
       "    <tr>\n",
       "      <th>4</th>\n",
       "      <td>59.951153</td>\n",
       "      <td>62</td>\n",
       "    </tr>\n",
       "  </tbody>\n",
       "</table>\n",
       "</div>"
      ],
      "text/plain": [
       "   Predicted  Actual\n",
       "0  83.188141      81\n",
       "1  27.032088      30\n",
       "2  27.032088      21\n",
       "3  69.633232      76\n",
       "4  59.951153      62"
      ]
     },
     "execution_count": 23,
     "metadata": {},
     "output_type": "execute_result"
    }
   ],
   "source": [
    "li3=pd.DataFrame({\n",
    "    'Predicted':y_pred,\n",
    "    'Actual':y_test.reshape(-1)})\n",
    "\n",
    "li3.index=np.arange(5)\n",
    "li3"
   ]
  },
  {
   "cell_type": "code",
   "execution_count": 24,
   "metadata": {},
   "outputs": [
    {
     "name": "stdout",
     "output_type": "stream",
     "text": [
      "Mean Absolute Error: 4.0 2\n"
     ]
    }
   ],
   "source": [
    "from sklearn import metrics  \n",
    "print('Mean Absolute Error:', \\\n",
    "round(metrics.mean_absolute_error(y_test, y_pred)),2)"
   ]
  },
  {
   "cell_type": "markdown",
   "metadata": {},
   "source": [
    "# To predict the score for 9.25 hours of study"
   ]
  },
  {
   "cell_type": "code",
   "execution_count": 25,
   "metadata": {},
   "outputs": [
    {
     "name": "stdout",
     "output_type": "stream",
     "text": [
      "Number of hours-     9.25\n",
      "Scores -             92.4\n",
      "\n",
      "\n",
      "Number of hours-     2\n",
      "Scores -             22.2\n",
      "\n",
      "\n"
     ]
    }
   ],
   "source": [
    "hours=[9.25,2]\n",
    "n=np.array([9.25,2])[:,np.newaxis]\n",
    "p=l.predict(n)\n",
    "for h in range(len(hours)):\n",
    "    print(\"{0:20s} {1}\".format(\"Number of hours-\",hours[h]))\n",
    "    print(\"{0:20s} {1}\".format(\"Scores -\",round(p[h][0],1)))\n",
    "    print(\"\\n\")"
   ]
  },
  {
   "cell_type": "markdown",
   "metadata": {},
   "source": [
    "# EVALUATING"
   ]
  },
  {
   "cell_type": "code",
   "execution_count": 26,
   "metadata": {},
   "outputs": [
    {
     "name": "stdout",
     "output_type": "stream",
     "text": [
      "Mean Absolute Error: 3.9207511902099244\n"
     ]
    }
   ],
   "source": [
    "from sklearn import metrics  \n",
    "print('Mean Absolute Error:', \n",
    "      metrics.mean_absolute_error(y_test, y_pred))"
   ]
  },
  {
   "cell_type": "markdown",
   "metadata": {},
   "source": [
    "# TASK 1 COMPLETED"
   ]
  }
 ],
 "metadata": {
  "kernelspec": {
   "display_name": "Python 3",
   "language": "python",
   "name": "python3"
  },
  "language_info": {
   "codemirror_mode": {
    "name": "ipython",
    "version": 3
   },
   "file_extension": ".py",
   "mimetype": "text/x-python",
   "name": "python",
   "nbconvert_exporter": "python",
   "pygments_lexer": "ipython3",
   "version": "3.7.3"
  }
 },
 "nbformat": 4,
 "nbformat_minor": 2
}
